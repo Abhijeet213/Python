{
 "cells": [
  {
   "cell_type": "code",
   "execution_count": 16,
   "metadata": {},
   "outputs": [
    {
     "name": "stdout",
     "output_type": "stream",
     "text": [
      "Going backward\n",
      "\n",
      "Going Forward My Tyre\n",
      "\n",
      "My Tyre\n"
     ]
    }
   ],
   "source": [
    "class car_blueprint :\n",
    " tyre = \"Mx Tyre\"\n",
    " engine = \"Suporfast\"\n",
    " seat = \"Red Coverd Seat\"\n",
    " def forward(self):\n",
    "  self.tyre=\"My Tyre\"\n",
    "  print(f\"Going Forward {self.tyre}\")\n",
    "  return \"\"\n",
    " def backward(self):\n",
    "  print(\"Going backward\")\n",
    "  return \"\"\n",
    "alto = car_blueprint()\n",
    "range_rover = car_blueprint()\n",
    "range_rover.tyre = \"SS Tyre\"\n",
    "\n",
    "print(alto.backward())\n",
    "print(range_rover.forward())\n",
    "print(range_rover.tyre)\n"
   ]
  },
  {
   "cell_type": "code",
   "execution_count": null,
   "metadata": {},
   "outputs": [],
   "source": [
    "[1,2,3].extend"
   ]
  }
 ],
 "metadata": {
  "kernelspec": {
   "display_name": "Python 3",
   "language": "python",
   "name": "python3"
  },
  "language_info": {
   "codemirror_mode": {
    "name": "ipython",
    "version": 3
   },
   "file_extension": ".py",
   "mimetype": "text/x-python",
   "name": "python",
   "nbconvert_exporter": "python",
   "pygments_lexer": "ipython3",
   "version": "3.11.4"
  },
  "orig_nbformat": 4
 },
 "nbformat": 4,
 "nbformat_minor": 2
}
