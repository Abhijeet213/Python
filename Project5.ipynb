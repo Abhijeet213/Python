{
 "cells": [
  {
   "cell_type": "markdown",
   "metadata": {},
   "source": [
    "# Percentage And Avarage marks Calculator"
   ]
  },
  {
   "cell_type": "code",
   "execution_count": 40,
   "metadata": {},
   "outputs": [],
   "source": [
    "marks_str= input(\"Enter Marks Of Maths, Physics, Chemistry (Serprated By Space)Out Of 100\")\n",
    "marks=marks_str.split()\n",
    "marks[0]=int(marks[0])\n",
    "marks[1]=int(marks[1])\n",
    "marks[2]=int(marks[2])\n"
   ]
  },
  {
   "cell_type": "code",
   "execution_count": 41,
   "metadata": {},
   "outputs": [
    {
     "name": "stdout",
     "output_type": "stream",
     "text": [
      "Avrage Marks - 0\n",
      "Percantage You Obtained - 0%\n"
     ]
    }
   ],
   "source": [
    "\n",
    "print(f\"Avrage Marks - {int((marks[0]+marks[1]+marks[2])/3)}\")\n",
    "print(f\"Percantage You Obtained - {int(((marks[0]+marks[1]+marks[2])/300)*100)}%\")"
   ]
  },
  {
   "cell_type": "code",
   "execution_count": null,
   "metadata": {},
   "outputs": [],
   "source": []
  }
 ],
 "metadata": {
  "kernelspec": {
   "display_name": "Python 3",
   "language": "python",
   "name": "python3"
  },
  "language_info": {
   "codemirror_mode": {
    "name": "ipython",
    "version": 3
   },
   "file_extension": ".py",
   "mimetype": "text/x-python",
   "name": "python",
   "nbconvert_exporter": "python",
   "pygments_lexer": "ipython3",
   "version": "3.11.4"
  },
  "orig_nbformat": 4
 },
 "nbformat": 4,
 "nbformat_minor": 2
}
