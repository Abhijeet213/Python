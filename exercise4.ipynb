{
 "cells": [
  {
   "cell_type": "code",
   "execution_count": 32,
   "metadata": {},
   "outputs": [
    {
     "name": "stdout",
     "output_type": "stream",
     "text": [
      "Im in Madras "
     ]
    }
   ],
   "source": [
    "import random\n",
    "import string\n",
    "al = list(string.ascii_lowercase)\n",
    "lis = []\n",
    "me = input(\"Enter You Message\\n-> \").split()\n",
    "if(int(input(\"1.Code 2.Decode\")) == 1):\n",
    "#Harry Bhai -> [\"Harry\",\"Bhai\"]\n",
    " for x in me:\n",
    "    if(len(x) < 3):\n",
    "        print(f\"{x[1]}{x[0]}\",end=\" \")\n",
    "    else:\n",
    "        for p in range(6):\n",
    "            lis.append(al[random.randint(0,25)])\n",
    "        s=x[0]\n",
    "        x= x.removeprefix(x[0])\n",
    "        x+=s\n",
    "        print(f\"{lis[0]}{lis[1]}{lis[2]}{x}{lis[3]}{lis[4]}{lis[5]}\",end=\" \")\n",
    "        lis=[]\n",
    "\n",
    "else:\n",
    "  for x in me:\n",
    "    if(len(x) < 3):\n",
    "        print(f\"{x[1]}{x[0]}\",end=\" \")\n",
    "    else:\n",
    "       rem = x[0:3]\n",
    "       rem1 = x[len(x)-3:len(x)]\n",
    "       st = x.removeprefix(rem)\n",
    "       st = st.removesuffix(rem1)\n",
    "   \n",
    "       print(f\"{st[len(st)-1]}{st[0:len(st)-1]}\",end=\" \")\n",
    "       #xplontuMagl si qswossBqyg \n",
    "\n",
    "       "
   ]
  },
  {
   "cell_type": "code",
   "execution_count": null,
   "metadata": {},
   "outputs": [],
   "source": []
  }
 ],
 "metadata": {
  "kernelspec": {
   "display_name": "Python 3",
   "language": "python",
   "name": "python3"
  },
  "language_info": {
   "codemirror_mode": {
    "name": "ipython",
    "version": 3
   },
   "file_extension": ".py",
   "mimetype": "text/x-python",
   "name": "python",
   "nbconvert_exporter": "python",
   "pygments_lexer": "ipython3",
   "version": "3.11.4"
  },
  "orig_nbformat": 4
 },
 "nbformat": 4,
 "nbformat_minor": 2
}
