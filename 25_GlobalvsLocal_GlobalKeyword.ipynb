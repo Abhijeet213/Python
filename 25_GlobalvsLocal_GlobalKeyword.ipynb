{
 "cells": [
  {
   "cell_type": "code",
   "execution_count": 5,
   "metadata": {},
   "outputs": [
    {
     "name": "stdout",
     "output_type": "stream",
     "text": [
      "In Function -> This Is An Local Variable\n",
      "In Global -> This Is An Local Variable\n"
     ]
    }
   ],
   "source": [
    "var = \"This Is An Global Variable\" # Global\n",
    "\n",
    "def func1():\n",
    " global var # For Making Global variable Cgange From Function``\n",
    " var = \"This Is An Local Variable\" # Local\n",
    " print(\"In Function ->\",var)\n",
    "func1()\n",
    "print(\"In Global ->\",var)\n"
   ]
  },
  {
   "cell_type": "code",
   "execution_count": null,
   "metadata": {},
   "outputs": [],
   "source": []
  }
 ],
 "metadata": {
  "kernelspec": {
   "display_name": "Python 3",
   "language": "python",
   "name": "python3"
  },
  "language_info": {
   "codemirror_mode": {
    "name": "ipython",
    "version": 3
   },
   "file_extension": ".py",
   "mimetype": "text/x-python",
   "name": "python",
   "nbconvert_exporter": "python",
   "pygments_lexer": "ipython3",
   "version": "3.11.4"
  },
  "orig_nbformat": 4
 },
 "nbformat": 4,
 "nbformat_minor": 2
}
