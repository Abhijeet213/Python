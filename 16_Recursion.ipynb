{
 "cells": [
  {
   "cell_type": "code",
   "execution_count": 6,
   "metadata": {},
   "outputs": [
    {
     "name": "stdout",
     "output_type": "stream",
     "text": [
      "1\n",
      "2\n",
      "3\n",
      "5\n"
     ]
    }
   ],
   "source": [
    "num = int(input(\"Fibonacci Number\"))\n",
    "prev =0\n",
    "pre =1\n",
    "while(pre!=5):                                  \n",
    "    print(prev+pre)\n",
    "    pri = pre\n",
    "    pre = prev+pre\n",
    "    prev= pri   "
   ]
  },
  {
   "cell_type": "code",
   "execution_count": 12,
   "metadata": {},
   "outputs": [
    {
     "name": "stdout",
     "output_type": "stream",
     "text": [
      "1\n",
      "2\n",
      "3\n",
      "5\n",
      "3\n",
      "2\n",
      "1\n",
      "1\n"
     ]
    }
   ],
   "source": [
    "num = int(input(\"Fibonacci Number\"))\n",
    "prev =0\n",
    "pre =1\n",
    "def fibo(num,prev,pre):\n",
    "    if(pre == num):\n",
    "        return -1\n",
    "    print(pre+prev)\n",
    "    fibo(num,pre,prev+pre)\n",
    "    print(pre)\n",
    "fibo(num,prev,pre)"
   ]
  },
  {
   "cell_type": "code",
   "execution_count": null,
   "metadata": {},
   "outputs": [],
   "source": []
  }
 ],
 "metadata": {
  "kernelspec": {
   "display_name": "Python 3",
   "language": "python",
   "name": "python3"
  },
  "language_info": {
   "codemirror_mode": {
    "name": "ipython",
    "version": 3
   },
   "file_extension": ".py",
   "mimetype": "text/x-python",
   "name": "python",
   "nbconvert_exporter": "python",
   "pygments_lexer": "ipython3",
   "version": "3.11.4"
  },
  "orig_nbformat": 4
 },
 "nbformat": 4,
 "nbformat_minor": 2
}
