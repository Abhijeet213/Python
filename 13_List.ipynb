{
 "cells": [
  {
   "cell_type": "code",
   "execution_count": 4,
   "metadata": {},
   "outputs": [
    {
     "name": "stdout",
     "output_type": "stream",
     "text": [
      "None [1, 2, 3, 4, 5, 6, 7, 8, 9, 19]\n",
      "[1, 2, 3, 4, 5, 6, 7, 8, 9, 19]\n",
      "3\n",
      "None []\n",
      "3\n",
      "9\n",
      "None [8, 7, 6, 5, 4, 3, 2, 2, 2, 1]\n",
      "None [1, 2, 2, 2, 3, 4, 5, 6, 7, 8]\n",
      "None [1, 2, 2, 2, 3, 4, 5, 6, 7, 8, 10, 11, 12, 13, 14, 15]\n"
     ]
    }
   ],
   "source": [
    "l1 =[1,2,3,4,5,6,7,8,9]\n",
    "\n",
    "print(l1.append(19),l1)\n",
    "print(l1.copy())\n",
    "print(l1.index(4))\n",
    "print(l1.clear(),l1)\n",
    "l1 =[1,2,2,2,3,4,5,6,7,8,9]\n",
    "print(l1.count(2))\n",
    "print(l1.pop())\n",
    "print(l1.reverse(),l1)\n",
    "print(l1.sort(),l1)\n",
    "print(l1.extend([10,11,12,13,14,15]),l1)"
   ]
  },
  {
   "cell_type": "code",
   "execution_count": null,
   "metadata": {},
   "outputs": [],
   "source": []
  }
 ],
 "metadata": {
  "kernelspec": {
   "display_name": "Python 3",
   "language": "python",
   "name": "python3"
  },
  "language_info": {
   "codemirror_mode": {
    "name": "ipython",
    "version": 3
   },
   "file_extension": ".py",
   "mimetype": "text/x-python",
   "name": "python",
   "nbconvert_exporter": "python",
   "pygments_lexer": "ipython3",
   "version": "3.11.4"
  },
  "orig_nbformat": 4
 },
 "nbformat": 4,
 "nbformat_minor": 2
}
