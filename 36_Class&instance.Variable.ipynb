{
 "cells": [
  {
   "cell_type": "code",
   "execution_count": 17,
   "metadata": {},
   "outputs": [
    {
     "name": "stdout",
     "output_type": "stream",
     "text": [
      "50\n",
      "Babar Ocuupation -> King Of Delhi\n",
      "90\n",
      "Abhimanyu Ocuupation -> Detective\n",
      "67\n",
      "Abhimanyu Ocuupation -> Detective\n"
     ]
    }
   ],
   "source": [
    "class Employee:\n",
    " no_of_employee=7\n",
    " def show(self):\n",
    "  print(f\"{self.name} Ocuupation -> {self.occ}\")\n",
    "\n",
    "babar = Employee()\n",
    "babar.name=\"Babar\"\n",
    "babar.occ=\"King Of Delhi\"\n",
    "babar.no_of_employee=50\n",
    "print(babar.no_of_employee)\n",
    "babar.show()\n",
    "abhimany = Employee()\n",
    "abhimany.no_of_employee=90\n",
    "print(abhimany.no_of_employee)\n",
    "abhimany.name=\"Abhimanyu\"\n",
    "abhimany.occ=\"Detective\"\n",
    "abhimany.show()\n",
    "Employee.no_of_employee=67\n",
    "abhimany = Employee()\n",
    "\n",
    "print(abhimany.no_of_employee)\n",
    "abhimany.name=\"Abhimanyu\"\n",
    "abhimany.occ=\"Detective\"\n",
    "abhimany.show()"
   ]
  },
  {
   "cell_type": "code",
   "execution_count": null,
   "metadata": {},
   "outputs": [],
   "source": []
  }
 ],
 "metadata": {
  "kernelspec": {
   "display_name": "Python 3",
   "language": "python",
   "name": "python3"
  },
  "language_info": {
   "codemirror_mode": {
    "name": "ipython",
    "version": 3
   },
   "file_extension": ".py",
   "mimetype": "text/x-python",
   "name": "python",
   "nbconvert_exporter": "python",
   "pygments_lexer": "ipython3",
   "version": "3.11.4"
  },
  "orig_nbformat": 4
 },
 "nbformat": 4,
 "nbformat_minor": 2
}
