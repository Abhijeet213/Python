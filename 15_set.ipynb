{
 "cells": [
  {
   "cell_type": "code",
   "execution_count": 3,
   "metadata": {},
   "outputs": [
    {
     "name": "stdout",
     "output_type": "stream",
     "text": [
      "1 add\n",
      "2 clear\n",
      "3 copy\n",
      "4 difference\n",
      "5 difference_update\n",
      "6 discard\n",
      "7 intersection\n",
      "8 intersection_update\n",
      "9 isdisjoint\n",
      "10 issubset\n",
      "11 issuperset\n",
      "12 pop\n",
      "13 remove\n",
      "14 symmetric_difference\n",
      "15 symmetric_difference_update\n",
      "16 union\n",
      "17 update\n"
     ]
    }
   ],
   "source": [
    "var = [i for i in dir(set) if not i.startswith(\"__\")]\n",
    "\n",
    "for i in enumerate(var, 1):\n",
    "    print(*i)"
   ]
  },
  {
   "cell_type": "code",
   "execution_count": 2,
   "metadata": {},
   "outputs": [
    {
     "name": "stdout",
     "output_type": "stream",
     "text": [
      "{0, 1, 2, 3, 5, 6, 7, 8}\n"
     ]
    }
   ],
   "source": [
    "s1 ={1,2,3,5,6,7,8}\n",
    "# s2 ={7,8,9,10}\n",
    "s1.add(0)\n",
    "print(s1)"
   ]
  },
  {
   "cell_type": "code",
   "execution_count": 5,
   "metadata": {},
   "outputs": [
    {
     "name": "stdout",
     "output_type": "stream",
     "text": [
      "None\n"
     ]
    },
    {
     "data": {
      "text/plain": [
       "set()"
      ]
     },
     "execution_count": 5,
     "metadata": {},
     "output_type": "execute_result"
    }
   ],
   "source": [
    "s1 ={1,2,3,5,6,7,8}\n",
    "# s2 ={7,8,9,10}\n",
    "print(s1.clear())\n",
    "s1"
   ]
  },
  {
   "cell_type": "code",
   "execution_count": 9,
   "metadata": {},
   "outputs": [
    {
     "name": "stdout",
     "output_type": "stream",
     "text": [
      "{1, 2, 3, 5, 6}\n",
      "{1, 2, 3, 5, 6, 7, 8}\n"
     ]
    }
   ],
   "source": [
    "s1 ={1,2,3,5,6,7,8}\n",
    "s2 ={7,8,9,10}\n",
    "print(s1.difference(s2))\n",
    "s1.difference_update(s2)\n",
    "print(s1)\n"
   ]
  },
  {
   "cell_type": "code",
   "execution_count": 37,
   "metadata": {},
   "outputs": [
    {
     "name": "stdout",
     "output_type": "stream",
     "text": [
      "{1, 2, 5, 6, 7, 8}\n"
     ]
    }
   ],
   "source": [
    "\n",
    "s1 ={1,2,3,5,6,7,8}\n",
    "# s2 ={7,8,9,10}\n",
    "s1.discard(3)\n",
    "print(s1)"
   ]
  },
  {
   "cell_type": "code",
   "execution_count": 14,
   "metadata": {},
   "outputs": [
    {
     "name": "stdout",
     "output_type": "stream",
     "text": [
      "{8, 7}\n",
      "{8, 7}\n"
     ]
    },
    {
     "data": {
      "text/plain": [
       "{7, 8, 9, 10}"
      ]
     },
     "execution_count": 14,
     "metadata": {},
     "output_type": "execute_result"
    }
   ],
   "source": [
    "s1 ={1,2,3,5,6,7,8}\n",
    "s2 ={7,8,9,10}\n",
    "print(s1.intersection(s2))\n",
    "s1.intersection_update(s2)\n",
    "print(s1)"
   ]
  },
  {
   "cell_type": "code",
   "execution_count": 18,
   "metadata": {},
   "outputs": [
    {
     "name": "stdout",
     "output_type": "stream",
     "text": [
      "True\n",
      "False\n"
     ]
    }
   ],
   "source": [
    "s1 ={1,2,3,5,6,7,8}\n",
    "s2 ={9,10}\n",
    "print(s1.isdisjoint(s2))\n",
    "s2 ={7,8,9,10}\n",
    "print(s1.isdisjoint(s2))"
   ]
  },
  {
   "cell_type": "code",
   "execution_count": 29,
   "metadata": {},
   "outputs": [
    {
     "name": "stdout",
     "output_type": "stream",
     "text": [
      "False\n",
      "False\n"
     ]
    }
   ],
   "source": [
    "s1 ={1,2,3,5,6,7,8}\n",
    "s2 ={0,7,8}\n",
    "print(s1.issubset({0,12,12123,11}))\n",
    "s2 ={7,8,9,10}\n",
    "print(s1.issubset(s2))"
   ]
  },
  {
   "cell_type": "code",
   "execution_count": 34,
   "metadata": {},
   "outputs": [
    {
     "name": "stdout",
     "output_type": "stream",
     "text": [
      "1\n",
      "2\n",
      "3\n",
      "5\n",
      "6\n",
      "7\n",
      "8\n"
     ]
    }
   ],
   "source": [
    "s1 ={1,2,3,5,6,7,8}\n",
    "# s2 ={7,8,9,10}\n",
    "print(s1.pop())\n",
    "print(s1.pop())\n",
    "print(s1.pop())\n",
    "print(s1.pop())\n",
    "print(s1.pop())\n",
    "print(s1.pop())\n",
    "print(s1.pop())\n"
   ]
  },
  {
   "cell_type": "code",
   "execution_count": 40,
   "metadata": {},
   "outputs": [
    {
     "name": "stdout",
     "output_type": "stream",
     "text": [
      "{1, 2, 3, 5, 6, 7}\n"
     ]
    }
   ],
   "source": [
    "s1 ={1,2,3,5,6,7,8}\n",
    "s1.remove(8)\n",
    "print(s1)"
   ]
  },
  {
   "cell_type": "code",
   "execution_count": 42,
   "metadata": {},
   "outputs": [
    {
     "name": "stdout",
     "output_type": "stream",
     "text": [
      "{1, 2, 3, 5, 6, 9, 10}\n",
      "{1, 2, 3, 5, 6, 9, 10}\n"
     ]
    }
   ],
   "source": [
    "s1 ={1,2,3,5,6,7,8}\n",
    "s2 ={7,8,9,10}\n",
    "print(s1.symmetric_difference(s2))\n",
    "s1.symmetric_difference_update(s2)\n",
    "print(s1)"
   ]
  },
  {
   "cell_type": "code",
   "execution_count": 1,
   "metadata": {},
   "outputs": [
    {
     "name": "stdout",
     "output_type": "stream",
     "text": [
      "{1, 2, 3, 4, 5, 6, 7, 8}\n",
      "{1, 2, 3, 4, 5, 6, 7, 8}\n"
     ]
    }
   ],
   "source": [
    "# 1 ,2,3,4,5\n",
    "# 4 ,5,6,7,8 \n",
    "# 1 ,2,3,4,5,6,7,8\n",
    "s1 = {1 ,2,3,4,5}\n",
    "s2 = {4 ,5,6,7,8}\n",
    "print(s1.union(s2))\n",
    "s1.update(s2)\n",
    "print(s1)\n"
   ]
  },
  {
   "cell_type": "code",
   "execution_count": null,
   "metadata": {},
   "outputs": [],
   "source": []
  }
 ],
 "metadata": {
  "kernelspec": {
   "display_name": "Python 3",
   "language": "python",
   "name": "python3"
  },
  "language_info": {
   "codemirror_mode": {
    "name": "ipython",
    "version": 3
   },
   "file_extension": ".py",
   "mimetype": "text/x-python",
   "name": "python",
   "nbconvert_exporter": "python",
   "pygments_lexer": "ipython3",
   "version": "3.11.4"
  },
  "orig_nbformat": 4
 },
 "nbformat": 4,
 "nbformat_minor": 2
}
