{
 "cells": [
  {
   "cell_type": "markdown",
   "metadata": {},
   "source": [
    "# Chowmien Bill"
   ]
  },
  {
   "cell_type": "code",
   "execution_count": 1,
   "metadata": {},
   "outputs": [
    {
     "ename": "ValueError",
     "evalue": "invalid literal for int() with base 10: ''",
     "output_type": "error",
     "traceback": [
      "\u001b[1;31m---------------------------------------------------------------------------\u001b[0m",
      "\u001b[1;31mValueError\u001b[0m                                Traceback (most recent call last)",
      "Cell \u001b[1;32mIn[1], line 2\u001b[0m\n\u001b[0;32m      1\u001b[0m name \u001b[39m=\u001b[39m \u001b[39minput\u001b[39m(\u001b[39m\"\u001b[39m\u001b[39mEnter Your Name\u001b[39m\u001b[39m\"\u001b[39m)\n\u001b[1;32m----> 2\u001b[0m chow_oder \u001b[39m=\u001b[39m \u001b[39mint\u001b[39;49m(\u001b[39minput\u001b[39;49m(\u001b[39m\"\u001b[39;49m\u001b[39mHow Many Chowmien Plate You Want(Per-20)\u001b[39;49m\u001b[39m\"\u001b[39;49m))\n\u001b[0;32m      4\u001b[0m \u001b[39mprint\u001b[39m(\u001b[39mf\u001b[39m\u001b[39m\"\u001b[39m\u001b[39m------------------------------------------------------------------------------------------------------\u001b[39m\u001b[39m\\n\u001b[39;00m\u001b[39m\"\u001b[39m,\u001b[39m\"\u001b[39m\u001b[39m\\b\u001b[39;00m\u001b[39m|\u001b[39m\u001b[39m\"\u001b[39m,\u001b[39m\"\u001b[39m\u001b[39mapna chowmien stall\u001b[39m\u001b[39m\"\u001b[39m\u001b[39m.\u001b[39mcenter(\u001b[39m100\u001b[39m)\u001b[39m.\u001b[39mtitle(),\u001b[39m\"\u001b[39m\u001b[39m|\u001b[39m\u001b[39m\"\u001b[39m,\u001b[39m\"\u001b[39m\u001b[39m\\n\u001b[39;00m\u001b[39m|------------------------------------------------------------------------------------------------------|\u001b[39m\u001b[39m\"\u001b[39m,\u001b[39m\"\u001b[39m\u001b[39m\\n\u001b[39;00m\u001b[39m|\u001b[39m\u001b[39m\"\u001b[39m,\u001b[39m\"\u001b[39m\u001b[39mBill\u001b[39m\u001b[39m\"\u001b[39m\u001b[39m.\u001b[39mcenter(\u001b[39m100\u001b[39m),\u001b[39m\"\u001b[39m\u001b[39m|\u001b[39m\u001b[39m\"\u001b[39m,\u001b[39m\"\u001b[39m\u001b[39m\\n\u001b[39;00m\u001b[39m|------------------------------------------------------------------------------------------------------|\u001b[39m\u001b[39m\"\u001b[39m,\u001b[39m\"\u001b[39m\u001b[39m\\n\u001b[39;00m\u001b[39m|\u001b[39m\u001b[39m\"\u001b[39m,\u001b[39mf\u001b[39m\u001b[39m\"\u001b[39m\u001b[39mName- \u001b[39m\u001b[39m{\u001b[39;00mname\u001b[39m}\u001b[39;00m\u001b[39m\"\u001b[39m\u001b[39m.\u001b[39mcenter(\u001b[39m50\u001b[39m),\u001b[39mf\u001b[39m\u001b[39m\"\u001b[39m\u001b[39mChowmien Plate Oderd - \u001b[39m\u001b[39m{\u001b[39;00mchow_oder\u001b[39m}\u001b[39;00m\u001b[39m|\u001b[39m\u001b[39m\"\u001b[39m\u001b[39m.\u001b[39mcenter(\u001b[39m63\u001b[39m),\u001b[39m\"\u001b[39m\u001b[39m    \u001b[39m\u001b[39m\\n\u001b[39;00m\u001b[39m|------------------------------------------------------------------------------------------------------|\u001b[39m\u001b[39m\"\u001b[39m,\u001b[39m\"\u001b[39m\u001b[39m\\n\u001b[39;00m\u001b[39m| \u001b[39m\u001b[39m\"\u001b[39m,\u001b[39m\"\u001b[39m\u001b[39mPer Plate-20💸\u001b[39m\u001b[39m\"\u001b[39m\u001b[39m.\u001b[39mrjust(\u001b[39m55\u001b[39m),\u001b[39m\"\u001b[39m\u001b[39m                                           |\u001b[39m\u001b[39m\"\u001b[39m,\u001b[39m\"\u001b[39m\u001b[39m\\n\u001b[39;00m\u001b[39m|------------------------------------------------------------------------------------------------------|\u001b[39m\u001b[39m\"\u001b[39m,\u001b[39m\"\u001b[39m\u001b[39m\\n\u001b[39;00m\u001b[39m|\u001b[39m\u001b[39m\"\u001b[39m,\u001b[39mf\u001b[39m\u001b[39m\"\u001b[39m\u001b[39m         Oderd * Per Plate                                          \u001b[39m\u001b[39m{\u001b[39;00mchow_oder\u001b[39m}\u001b[39;00m\u001b[39mx20 =  \u001b[39m\u001b[39m{\u001b[39;00mchow_oder\u001b[39m*\u001b[39m\u001b[39m20\u001b[39m\u001b[39m}\u001b[39;00m\u001b[39m                       |\u001b[39m\u001b[39m\"\u001b[39m,\u001b[39m\"\u001b[39m\u001b[39m\\n\u001b[39;00m\u001b[39m|------------------------------------------------------------------------------------------------------|\u001b[39m\u001b[39m\"\u001b[39m,\u001b[39m\"\u001b[39m\u001b[39m\\n\u001b[39;00m\u001b[39m|\u001b[39m\u001b[39m\"\u001b[39m,\u001b[39m\"\u001b[39m\u001b[39mThanks For Visiting Apna Chowmein Stall\u001b[39m\u001b[39m\"\u001b[39m\u001b[39m.\u001b[39mcenter(\u001b[39m100\u001b[39m),\u001b[39m\"\u001b[39m\u001b[39m|\u001b[39m\u001b[39m\"\u001b[39m,\u001b[39m\"\u001b[39m\u001b[39m\\n\u001b[39;00m\u001b[39m|------------------------------------------------------------------------------------------------------|\u001b[39m\u001b[39m\"\u001b[39m)\n",
      "\u001b[1;31mValueError\u001b[0m: invalid literal for int() with base 10: ''"
     ]
    }
   ],
   "source": [
    "name = input(\"Enter Your Name\")\n",
    "chow_oder = int(input(\"How Many Chowmien Plate You Want(Per-20)\"))\n",
    "\n",
    "print(f\"------------------------------------------------------------------------------------------------------\\n\",\"\\b|\",\"apna chowmien stall\".center(100).title(),\"|\",\"\\n|------------------------------------------------------------------------------------------------------|\",\"\\n|\",\"Bill\".center(100),\"|\",\"\\n|------------------------------------------------------------------------------------------------------|\",\"\\n|\",f\"Name- {name}\".center(50),f\"Chowmien Plate Oderd - {chow_oder}|\".center(63),\"    \\n|------------------------------------------------------------------------------------------------------|\",\"\\n| \",\"Per Plate-20💸\".rjust(55),\"                                           |\",\"\\n|------------------------------------------------------------------------------------------------------|\",\"\\n|\",f\"         Oderd * Per Plate                                          {chow_oder}x20 =  {chow_oder*20}                       |\",\"\\n|------------------------------------------------------------------------------------------------------|\",\"\\n|\",\"Thanks For Visiting Apna Chowmein Stall\".center(100),\"|\",\"\\n|------------------------------------------------------------------------------------------------------|\")"
   ]
  },
  {
   "cell_type": "code",
   "execution_count": null,
   "metadata": {},
   "outputs": [],
   "source": []
  }
 ],
 "metadata": {
  "kernelspec": {
   "display_name": "Python 3",
   "language": "python",
   "name": "python3"
  },
  "language_info": {
   "codemirror_mode": {
    "name": "ipython",
    "version": 3
   },
   "file_extension": ".py",
   "mimetype": "text/x-python",
   "name": "python",
   "nbconvert_exporter": "python",
   "pygments_lexer": "ipython3",
   "version": "3.11.4"
  },
  "orig_nbformat": 4
 },
 "nbformat": 4,
 "nbformat_minor": 2
}
