{
 "cells": [
  {
   "cell_type": "markdown",
   "metadata": {},
   "source": [
    "## While Loops\n",
    "\n",
    "### While Loops Are lopps That Runs on Condition\n",
    "\n",
    "### When Condition is true While loop Runs Otherwise Not\n",
    "\n",
    "Syntax -\n",
    "\n",
    "while(condition) :\n",
    " print(\"Condition is true\")"
   ]
  },
  {
   "cell_type": "code",
   "execution_count": null,
   "metadata": {},
   "outputs": [],
   "source": [
    "age = int(input(\"Enter Your Age\"))\n",
    "while(age < 0) :\n",
    " print(\"Please Enter A Valid Age\",\"->\",age)\n",
    " age = int(input(\"Enter Your Age\"))\n",
    "if(age>=18) :\n",
    " print(\"You Can Drive\")\n",
    "else :\n",
    " print(\"You Cannot Drive\")"
   ]
  },
  {
   "cell_type": "markdown",
   "metadata": {},
   "source": [
    "## else in While\n",
    "\n",
    "### You know Else Run When Condition Not True Same In While loops\n",
    "### When Condition is False He Run While Else\n"
   ]
  },
  {
   "cell_type": "code",
   "execution_count": 11,
   "metadata": {},
   "outputs": [
    {
     "name": "stdout",
     "output_type": "stream",
     "text": [
      "Please Enter A Valid Age -> -1\n",
      "Age Enterd is Correct☺☺☺😈😺😀😀🙂😎😋😋😋😅😅😃😃😄😄😁😁\n"
     ]
    }
   ],
   "source": [
    "age = int(input(\"Enter Your Age\"))\n",
    "while(age < 0) :\n",
    " print(\"Please Enter A Valid Age\",\"->\",age)\n",
    " age = int(input(\"Enter Your Age\"))\n",
    "else :\n",
    " print(\"Age Enterd is Correct☺☺☺😈😺😀😀🙂😎😋😋😋😅😅😃😃😄😄😁😁\")"
   ]
  }
 ],
 "metadata": {
  "kernelspec": {
   "display_name": "Python 3",
   "language": "python",
   "name": "python3"
  },
  "language_info": {
   "codemirror_mode": {
    "name": "ipython",
    "version": 3
   },
   "file_extension": ".py",
   "mimetype": "text/x-python",
   "name": "python",
   "nbconvert_exporter": "python",
   "pygments_lexer": "ipython3",
   "version": "3.11.4"
  },
  "orig_nbformat": 4
 },
 "nbformat": 4,
 "nbformat_minor": 2
}
