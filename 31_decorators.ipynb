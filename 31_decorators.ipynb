{
 "cells": [
  {
   "cell_type": "code",
   "execution_count": 20,
   "metadata": {},
   "outputs": [
    {
     "name": "stdout",
     "output_type": "stream",
     "text": [
      "Good Morning\n",
      "Sir/Mam\n",
      "Good Morning\n",
      "Sir/Mam\n"
     ]
    }
   ],
   "source": [
    "def editor(fun):\n",
    " def editing():\n",
    "  fun()\n",
    "  print(\"Sir/Mam\")\n",
    " return editing\n",
    "\n",
    "@editor\n",
    "def greet():\n",
    " print(\"Good Morning\")\n",
    "\n",
    "def greet1():\n",
    " print(\"Good Morning\")\n",
    "\n",
    "\n",
    "\n",
    "editor(greet1)()\n",
    "\n",
    "greet()"
   ]
  },
  {
   "cell_type": "code",
   "execution_count": null,
   "metadata": {},
   "outputs": [],
   "source": []
  }
 ],
 "metadata": {
  "kernelspec": {
   "display_name": "Python 3",
   "language": "python",
   "name": "python3"
  },
  "language_info": {
   "codemirror_mode": {
    "name": "ipython",
    "version": 3
   },
   "file_extension": ".py",
   "mimetype": "text/x-python",
   "name": "python",
   "nbconvert_exporter": "python",
   "pygments_lexer": "ipython3",
   "version": "3.11.4"
  },
  "orig_nbformat": 4
 },
 "nbformat": 4,
 "nbformat_minor": 2
}
