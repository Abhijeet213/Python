{
 "cells": [
  {
   "cell_type": "markdown",
   "metadata": {},
   "source": [
    "# Calculator For Op Person"
   ]
  },
  {
   "cell_type": "code",
   "execution_count": 1,
   "metadata": {},
   "outputs": [],
   "source": [
    "user_input1 = input(\"Enter Number 1\") \n",
    "user_input2 = input(\"Enter Number 2\") \n",
    "what = input(\"what to doo Add Minus Plus Divide\") "
   ]
  },
  {
   "cell_type": "code",
   "execution_count": 2,
   "metadata": {},
   "outputs": [
    {
     "ename": "TypeError",
     "evalue": "unsupported operand type(s) for -: 'str' and 'str'",
     "output_type": "error",
     "traceback": [
      "\u001b[1;31m---------------------------------------------------------------------------\u001b[0m",
      "\u001b[1;31mTypeError\u001b[0m                                 Traceback (most recent call last)",
      "Cell \u001b[1;32mIn[2], line 4\u001b[0m\n\u001b[0;32m      2\u001b[0m     \u001b[39mprint\u001b[39m(\u001b[39m\"\u001b[39m\u001b[39mSum is \u001b[39m\u001b[39m\"\u001b[39m,user_input1\u001b[39m+\u001b[39muser_input2)\n\u001b[0;32m      3\u001b[0m \u001b[39melif\u001b[39;00m(what \u001b[39m==\u001b[39m \u001b[39m\"\u001b[39m\u001b[39mMinus\u001b[39m\u001b[39m\"\u001b[39m) :\n\u001b[1;32m----> 4\u001b[0m     \u001b[39mprint\u001b[39m(\u001b[39m\"\u001b[39m\u001b[39mMinus is \u001b[39m\u001b[39m\"\u001b[39m,user_input1\u001b[39m-\u001b[39;49muser_input2)\n",
      "\u001b[1;31mTypeError\u001b[0m: unsupported operand type(s) for -: 'str' and 'str'"
     ]
    }
   ],
   "source": [
    "if(what == \"Add\") :\n",
    "    print(\"Sum is \",user_input1+user_input2)\n",
    "elif(what == \"Minus\") :\n",
    "    print(\"Minus is \",user_input1-user_input2)\n"
   ]
  },
  {
   "cell_type": "code",
   "execution_count": null,
   "metadata": {},
   "outputs": [],
   "source": []
  }
 ],
 "metadata": {
  "kernelspec": {
   "display_name": "Python 3",
   "language": "python",
   "name": "python3"
  },
  "language_info": {
   "codemirror_mode": {
    "name": "ipython",
    "version": 3
   },
   "file_extension": ".py",
   "mimetype": "text/x-python",
   "name": "python",
   "nbconvert_exporter": "python",
   "pygments_lexer": "ipython3",
   "version": "3.11.4"
  },
  "orig_nbformat": 4
 },
 "nbformat": 4,
 "nbformat_minor": 2
}
