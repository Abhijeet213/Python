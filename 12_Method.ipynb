{
 "cells": [
  {
   "cell_type": "markdown",
   "metadata": {},
   "source": [
    "### Function -> is a Block Of Code That Run When Its Called\n",
    "### Syntax ->\n",
    "  #### def -> Define\n",
    "  #### def nameoffunction -> Its Used In calling Function\n",
    "  #### def nameoffunction (Used For Passing Argument)\n",
    "  #### def nameoffunction (Used For Passing Argument) :\n",
    "  #### inner Body of function\n",
    "\n",
    "## Calling An Function\n",
    "### -> You Call A Function by its name Round bracket and Pass argument in Round Bracket\n",
    "####  funtionname()\n",
    "\n",
    "\n",
    "\n",
    "## You also Pass Argument in Function By writing argument Round Bracketd\n",
    "### def functionname (arg1,arg2)"
   ]
  },
  {
   "cell_type": "code",
   "execution_count": 8,
   "metadata": {},
   "outputs": [],
   "source": [
    "def function() :\n",
    "    print(\"Function Called\")"
   ]
  },
  {
   "cell_type": "code",
   "execution_count": 4,
   "metadata": {},
   "outputs": [
    {
     "name": "stdout",
     "output_type": "stream",
     "text": [
      "Function Called\n"
     ]
    }
   ],
   "source": [
    "function()"
   ]
  },
  {
   "cell_type": "code",
   "execution_count": 13,
   "metadata": {},
   "outputs": [],
   "source": [
    "def function(n1,n2) :\n",
    "    print(\"Adding both\",n1+n2)\n",
    "    print(\"Dividing both\",n1//n2)\n",
    "    print(\"Subtracting both\",n1-n2)\n",
    "    print(\"Multipying both\",n1*n2)\n",
    "    print(\"Square both\",n1**n2)"
   ]
  },
  {
   "cell_type": "code",
   "execution_count": 14,
   "metadata": {},
   "outputs": [
    {
     "name": "stdout",
     "output_type": "stream",
     "text": [
      "Adding both 4\n",
      "Dividing both 1\n",
      "Subtracting both 0\n",
      "Multipying both 4\n",
      "Square both 4\n"
     ]
    }
   ],
   "source": [
    "function(2,2)"
   ]
  },
  {
   "cell_type": "code",
   "execution_count": null,
   "metadata": {},
   "outputs": [],
   "source": [
    "def function(n1,n2) :\n",
    "    print(\"Adding both\",n1+n2)\n",
    "    print(\"Dividing both\",n1//n2)\n",
    "    print(\"Subtracting both\",n1-n2)\n",
    "    print(\"Multipying both\",n1*n2)\n",
    "    print(\"Square both\",n1**n2)"
   ]
  },
  {
   "cell_type": "code",
   "execution_count": 16,
   "metadata": {},
   "outputs": [
    {
     "name": "stdout",
     "output_type": "stream",
     "text": [
      "Adding both 4\n",
      "Dividing both 0\n",
      "Subtracting both -2\n",
      "Multipying both 3\n",
      "Square both 1\n"
     ]
    }
   ],
   "source": [
    "function(n2=3,n1=1) # Key Word Argument"
   ]
  },
  {
   "cell_type": "code",
   "execution_count": 37,
   "metadata": {},
   "outputs": [],
   "source": [
    "def function(f1,m2=\"Kumar\",l3=\"\") :\n",
    "    print(\"My Name is -> \",f1+\" \"+m2+\" \"+l3)"
   ]
  },
  {
   "cell_type": "code",
   "execution_count": 38,
   "metadata": {},
   "outputs": [
    {
     "name": "stdout",
     "output_type": "stream",
     "text": [
      "My Name is ->  Abhijeet Kumar Bissa\n"
     ]
    }
   ],
   "source": [
    "function(\"Abhijeet\",l3=\"Bissa\")"
   ]
  },
  {
   "cell_type": "code",
   "execution_count": null,
   "metadata": {},
   "outputs": [],
   "source": []
  }
 ],
 "metadata": {
  "kernelspec": {
   "display_name": "Python 3",
   "language": "python",
   "name": "python3"
  },
  "language_info": {
   "codemirror_mode": {
    "name": "ipython",
    "version": 3
   },
   "file_extension": ".py",
   "mimetype": "text/x-python",
   "name": "python",
   "nbconvert_exporter": "python",
   "pygments_lexer": "ipython3",
   "version": "3.11.4"
  },
  "orig_nbformat": 4
 },
 "nbformat": 4,
 "nbformat_minor": 2
}
