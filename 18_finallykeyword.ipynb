{
 "cells": [
  {
   "cell_type": "markdown",
   "metadata": {},
   "source": [
    "# Finally\n",
    "## Finally Keyword Wll Always Use With Try And Catch\n",
    "### Keyword Will Always Executed\n",
    "#### Also When Function Returned"
   ]
  },
  {
   "cell_type": "code",
   "execution_count": 6,
   "metadata": {},
   "outputs": [
    {
     "name": "stdout",
     "output_type": "stream",
     "text": [
      "Error\n",
      "Im Always Be Executed\n"
     ]
    }
   ],
   "source": [
    "try:\n",
    " serverinput = input().split()\n",
    " if(int(serverinput[0]) == 222):\n",
    "  print(\"Calling To 7737880222\")\n",
    "except Exception as e :\n",
    " print(\"Error\")\n",
    "# finally :\n",
    "# print(\"Im Always Be Executed\") -> This Also Work \n",
    "\n",
    "# print(\"Im Always Be Executed\") -> This Also Work As Finally"
   ]
  },
  {
   "cell_type": "code",
   "execution_count": 13,
   "metadata": {},
   "outputs": [
    {
     "name": "stdout",
     "output_type": "stream",
     "text": [
      "Error\n",
      "Im Always Be Executed When Function Is Return Or Not\n",
      "Sorry\n"
     ]
    }
   ],
   "source": [
    "def func():\n",
    "  try:\n",
    "    serverinput = input().split()\n",
    "    if(int(serverinput[0]) == 222):\n",
    "     print(\"Calling To 7737880222\")\n",
    "     return \"Ok\"\n",
    "  except Exception as e :\n",
    "    print(\"Error\")\n",
    "    return(\"Sorry\")\n",
    "  finally:\n",
    "    print(\"Im Always Be Executed When Function Is Return Or Not\")\n",
    "\n",
    "print(func())"
   ]
  },
  {
   "cell_type": "code",
   "execution_count": null,
   "metadata": {},
   "outputs": [],
   "source": [
    "\n"
   ]
  }
 ],
 "metadata": {
  "kernelspec": {
   "display_name": "Python 3",
   "language": "python",
   "name": "python3"
  },
  "language_info": {
   "codemirror_mode": {
    "name": "ipython",
    "version": 3
   },
   "file_extension": ".py",
   "mimetype": "text/x-python",
   "name": "python",
   "nbconvert_exporter": "python",
   "pygments_lexer": "ipython3",
   "version": "3.11.4"
  },
  "orig_nbformat": 4
 },
 "nbformat": 4,
 "nbformat_minor": 2
}
