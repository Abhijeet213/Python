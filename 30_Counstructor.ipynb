{
 "cells": [
  {
   "cell_type": "code",
   "execution_count": null,
   "metadata": {},
   "outputs": [],
   "source": []
  },
  {
   "cell_type": "code",
   "execution_count": 9,
   "metadata": {},
   "outputs": [
    {
     "name": "stdout",
     "output_type": "stream",
     "text": [
      "Student Object Created Sucessfully\n",
      "Student Object Created Sucessfully\n",
      "Student Object Created Sucessfully\n"
     ]
    }
   ],
   "source": [
    "class student:\n",
    "    def a(): pass\n",
    "    def __init__(self):\n",
    "     print(\"Student Object Created Sucessfully\")\n",
    "\n",
    "s1 = student()\n",
    "s2 = student()\n",
    "s3 = student()"
   ]
  },
  {
   "cell_type": "code",
   "execution_count": 10,
   "metadata": {},
   "outputs": [
    {
     "name": "stdout",
     "output_type": "stream",
     "text": [
      "Pandit 0\n",
      "Rama 1\n",
      "Krishna 2\n"
     ]
    }
   ],
   "source": [
    "class student:\n",
    "    Name=\"\"\n",
    "    student_id= 0\n",
    "\n",
    "    def info(self): \n",
    "        print(f\"{self.Name} {self.student_id}\")\n",
    "    def __init__(self,Name,student):\n",
    "        self.Name=Name\n",
    "        self.student_id=student\n",
    "       \n",
    "s1 = student(\"Pandit\",0)\n",
    "s1.info()\n",
    "s2 = student(\"Rama\",1)\n",
    "s2.info()\n",
    "s3 = student(\"Krishna\",2)\n",
    "s3.info()"
   ]
  },
  {
   "cell_type": "code",
   "execution_count": null,
   "metadata": {},
   "outputs": [],
   "source": []
  }
 ],
 "metadata": {
  "kernelspec": {
   "display_name": "Python 3",
   "language": "python",
   "name": "python3"
  },
  "language_info": {
   "codemirror_mode": {
    "name": "ipython",
    "version": 3
   },
   "file_extension": ".py",
   "mimetype": "text/x-python",
   "name": "python",
   "nbconvert_exporter": "python",
   "pygments_lexer": "ipython3",
   "version": "3.11.4"
  },
  "orig_nbformat": 4
 },
 "nbformat": 4,
 "nbformat_minor": 2
}
