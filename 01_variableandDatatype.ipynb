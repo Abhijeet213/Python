{
 "cells": [
  {
   "cell_type": "markdown",
   "metadata": {},
   "source": [
    "### Variable Are Container That Contain Value"
   ]
  },
  {
   "cell_type": "code",
   "execution_count": 1,
   "metadata": {},
   "outputs": [],
   "source": [
    "#  = - Assing Value, += - Plus And Assing The Value  , /= - Divide And Assing The Value , *= - Multiply and Assing, -= - Subtract And Assing The Value\n",
    "a=12 # Assing Value 12\n",
    "\n",
    "a+=2 # Plus 2 in 12 and Assing Sum (14)\n",
    "\n",
    "a-=2 # \n",
    "\n",
    "a/=2\n",
    "\n",
    "a*=2\n",
    "\n"
   ]
  },
  {
   "cell_type": "markdown",
   "metadata": {},
   "source": [
    "### Data type is type of data"
   ]
  },
  {
   "cell_type": "markdown",
   "metadata": {},
   "source": [
    "Numeric - Contain Number\n",
    "\n",
    "String - Contain coolections Of Character\n",
    "\n",
    "Float \n",
    "\n",
    "Boolean\n",
    "\n",
    "List \n",
    "\n",
    "Tupel\n",
    "\n",
    "Set\n",
    "\n",
    "Dictionary"
   ]
  },
  {
   "cell_type": "markdown",
   "metadata": {},
   "source": []
  }
 ],
 "metadata": {
  "kernelspec": {
   "display_name": "Python 3",
   "language": "python",
   "name": "python3"
  },
  "language_info": {
   "codemirror_mode": {
    "name": "ipython",
    "version": 3
   },
   "file_extension": ".py",
   "mimetype": "text/x-python",
   "name": "python",
   "nbconvert_exporter": "python",
   "pygments_lexer": "ipython3",
   "version": "3.11.4"
  },
  "orig_nbformat": 4
 },
 "nbformat": 4,
 "nbformat_minor": 2
}
