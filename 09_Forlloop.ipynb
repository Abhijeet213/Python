{
 "cells": [
  {
   "cell_type": "markdown",
   "metadata": {},
   "source": [
    "## For Loop \n",
    "#### is A Method That Repeat Block Of Code Certain Number oF Times\n",
    "#### Or Used For Accesing A Collection One By One"
   ]
  },
  {
   "cell_type": "code",
   "execution_count": 5,
   "metadata": {},
   "outputs": [
    {
     "name": "stdout",
     "output_type": "stream",
     "text": [
      "Mr Bean Character -:  Teddy\n",
      "Mr Bean Character -:  Bean\n",
      "Mr Bean Character -:  Wicket\n",
      "Mr Bean Character -:  Car\n"
     ]
    }
   ],
   "source": [
    "list = [\"Teddy\",\"Bean\",\"Wicket\",\"Car\"]\n",
    "for e in list :\n",
    "   print(\"Mr Bean Character -: \",e) "
   ]
  },
  {
   "cell_type": "code",
   "execution_count": 12,
   "metadata": {},
   "outputs": [
    {
     "name": "stdout",
     "output_type": "stream",
     "text": [
      "N\n",
      "o\n",
      "w\n"
     ]
    }
   ],
   "source": [
    "Str = \"Learn Code Now\"\n",
    "for st in Str[11:14] :\n",
    "    print(st) "
   ]
  },
  {
   "cell_type": "code",
   "execution_count": 11,
   "metadata": {},
   "outputs": [
    {
     "name": "stdout",
     "output_type": "stream",
     "text": [
      "1\n",
      "4\n",
      "7\n",
      "10\n"
     ]
    }
   ],
   "source": [
    "# 1 2 3 4 5 6 7 8 9 10\n",
    "# for num in 5:\n",
    "#     print(num)\n",
    "for num in range(1,11,3):\n",
    "    print(num)"
   ]
  },
  {
   "cell_type": "code",
   "execution_count": null,
   "metadata": {},
   "outputs": [],
   "source": []
  }
 ],
 "metadata": {
  "kernelspec": {
   "display_name": "Python 3",
   "language": "python",
   "name": "python3"
  },
  "language_info": {
   "codemirror_mode": {
    "name": "ipython",
    "version": 3
   },
   "file_extension": ".py",
   "mimetype": "text/x-python",
   "name": "python",
   "nbconvert_exporter": "python",
   "pygments_lexer": "ipython3",
   "version": "3.11.4"
  },
  "orig_nbformat": 4
 },
 "nbformat": 4,
 "nbformat_minor": 2
}
