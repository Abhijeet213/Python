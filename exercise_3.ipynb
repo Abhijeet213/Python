{
 "cells": [
  {
   "cell_type": "code",
   "execution_count": 23,
   "metadata": {},
   "outputs": [
    {
     "name": "stdout",
     "output_type": "stream",
     "text": [
      "KBC Game Start\n"
     ]
    }
   ],
   "source": [
    "pincre =1000\n",
    "point =0\n",
    "passed = []\n",
    "que =1\n",
    "import random;\n",
    "quesandans =[ {\"Who was the first law minister of independent India?\":\"Bhimrao Ramji Ambedkar\"},{\"Who opened the first school for girls in India?\":\"Savitribai Phule\"},{\"Which language was thought to be spoken by Buddha?\":\"Pali\"},{\"Who is known as the missile woman of India?\":\"Tessy Thomas\"},{\"In which century did the use of the Charkha (spinning wheel) become common in India?\":\"14th Century AD\"},{\"How many years did it take to build the Taj Mahal?\":20} ]\n",
    "mcq= [[\"Jahwalnal Nehru\",\"Jyotiba Bai Pula\",\"Prem Mathur\",\"Bhimrao Ramji Ambedkar\"],[\"Vijaya Lakshmi Pandit\",\"Savitribai Phule\",\"Indra Ghandi\",\"Ramaji\"],[\"English\",\"Hindi\",\"Pali\",\"Budhiyan\"],[\"indra Ghandi\",\"Tessy Thomas\",\"Jyotiba bai Pula\",\"A.B.J Abdul Kalam\"],[\"14th Century AD\",\"17th Century AD\",\"21th Century AD\",\"11th Century AD\"],[20,30,10,5]]\n",
    "print(\"KBC Game Start\")\n",
    "\n",
    "\n"
   ]
  },
  {
   "cell_type": "code",
   "execution_count": 42,
   "metadata": {},
   "outputs": [
    {
     "name": "stdout",
     "output_type": "stream",
     "text": [
      "1 Parshan Apki Screen Ka Upar Ya Raha\n",
      "1. Who opened the first school for girls in India?\n",
      "A.Vijaya Lakshmi Pandit               B.Savitribai Phule\n",
      "C.Indra Ghandi               D.Ramaji\n",
      "App Har Chka Hai Apka Sara Dhan Apko Transfer Kar Diya Jay Ga\n",
      "1 Parshan Apki Screen Ka Upar Ya Raha\n",
      "1. In which century did the use of the Charkha (spinning wheel) become common in India?\n",
      "A.14th Century AD               B.17th Century AD\n",
      "C.21th Century AD               D.11th Century AD\n",
      "App Har Chka Hai Apka Sara Dhan Apko Transfer Kar Diya Jay Ga\n"
     ]
    }
   ],
   "source": [
    "khalna = True\n",
    "while(khalna):\n",
    " rnque = random.randrange(0,5)\n",
    " while(rnque in passed):\n",
    "  rnque = random.randrange(0,5)\n",
    "  print('\\n')\n",
    " print(f\"{que} Parshan Apki Screen Ka Upar Ya Raha\")\n",
    " en = quesandans[rnque].keys()\n",
    " print('\\n')\n",
    " print(f\"{que}.\",*en)\n",
    " print('\\n')\n",
    " print(f\"A.{mcq[rnque][0]}               B.{mcq[rnque][1]}\")\n",
    " print(f\"C.{mcq[rnque][2]}               D.{mcq[rnque][3]}\")\n",
    " print('\\n')\n",
    "\n",
    " lock = input(\"Kisko Lock Kiya Jaya -:(Option Value)\")\n",
    " pal =quesandans[rnque]\n",
    " hil =pal.values()\n",
    " \n",
    " for val in hil :\n",
    "  pal = val\n",
    " if(lock == pal):\n",
    "   print('\\n')\n",
    "   print(f\"App Jeet Chuka Hai {pincre} Rupya\")\n",
    "   point+=pincre\n",
    "   pincre *= 2\n",
    "   que+=1\n",
    "   passed.append(rnque)\n",
    " else :\n",
    "  print('\\n')\n",
    "  print(f\"App Har Chka Hai Apka Sara Dhan {point} Apko Transfer Kar Diya Jay Ga\")\n",
    "  print('\\n')\n",
    "  print(f\"Shi Utar Hai {pal}\")\n",
    "  pincre =1000\n",
    "  point =0\n",
    "  passed = []\n",
    "  que =1\n",
    "  khalna = bool(input(\"App Dubara Khalna Chahanga (True/False)\"))\n"
   ]
  },
  {
   "cell_type": "code",
   "execution_count": null,
   "metadata": {},
   "outputs": [],
   "source": []
  },
  {
   "cell_type": "code",
   "execution_count": null,
   "metadata": {},
   "outputs": [],
   "source": []
  }
 ],
 "metadata": {
  "kernelspec": {
   "display_name": "Python 3",
   "language": "python",
   "name": "python3"
  },
  "language_info": {
   "codemirror_mode": {
    "name": "ipython",
    "version": 3
   },
   "file_extension": ".py",
   "mimetype": "text/x-python",
   "name": "python",
   "nbconvert_exporter": "python",
   "pygments_lexer": "ipython3",
   "version": "3.11.4"
  },
  "orig_nbformat": 4
 },
 "nbformat": 4,
 "nbformat_minor": 2
}
