{
 "cells": [
  {
   "cell_type": "code",
   "execution_count": 30,
   "metadata": {},
   "outputs": [],
   "source": [
    "Mark =[]"
   ]
  },
  {
   "cell_type": "code",
   "execution_count": 31,
   "metadata": {},
   "outputs": [
    {
     "name": "stdout",
     "output_type": "stream",
     "text": [
      "Abhijeet -> Math =14  Science =37  Sanskrit =31  S.S.T =37  English =31  Hindi =28\n"
     ]
    },
    {
     "ename": "ValueError",
     "evalue": "invalid literal for int() with base 10: ''",
     "output_type": "error",
     "traceback": [
      "\u001b[1;31m---------------------------------------------------------------------------\u001b[0m",
      "\u001b[1;31mValueError\u001b[0m                                Traceback (most recent call last)",
      "Cell \u001b[1;32mIn[31], line 2\u001b[0m\n\u001b[0;32m      1\u001b[0m \u001b[39mfor\u001b[39;00m _ \u001b[39min\u001b[39;00m \u001b[39miter\u001b[39m(\u001b[39mint\u001b[39m, \u001b[39m1\u001b[39m) :\n\u001b[1;32m----> 2\u001b[0m  wd \u001b[39m=\u001b[39m \u001b[39mint\u001b[39;49m(\u001b[39minput\u001b[39;49m(\u001b[39m\"\u001b[39;49m\u001b[39m1.Show All Marks 2.Show Particular Student Marks 3.Add Marks 4.Clear Data Of Stu\u001b[39;49m\u001b[39m\"\u001b[39;49m))\n\u001b[0;32m      3\u001b[0m  \u001b[39mif\u001b[39;00m wd \u001b[39m==\u001b[39m \u001b[39m1\u001b[39m :\n\u001b[0;32m      4\u001b[0m   \u001b[39mfor\u001b[39;00m mar \u001b[39min\u001b[39;00m Mark :\n",
      "\u001b[1;31mValueError\u001b[0m: invalid literal for int() with base 10: ''"
     ]
    }
   ],
   "source": [
    "\n",
    "for _ in iter(int, 1) :\n",
    " wd = int(input(\"1.Show All Marks 2.Show Particular Student Marks 3.Add Marks 4.Clear Data Of Student\"))\n",
    " if wd == 1 :\n",
    "  for mar in Mark :\n",
    "   print(f\"{mar[0]} -> Math ={mar[1]}  Science ={mar[2]}  Sanskrit ={mar[3]}  S.S.T ={mar[4]}  English ={mar[5]}  Hindi ={mar[6]}\")\n",
    " elif(wd == 2) :\n",
    "  name = input(\"Enter Name (Same As You Uploaded)\")\n",
    "  for mar in Mark :\n",
    "   if mar[0] == name :\n",
    "    print(f\"{mar[0]} -> Math ={mar[1]}  Science ={mar[2]}  Sanskrit ={mar[3]}  S.S.T ={mar[4]}  English ={mar[5]}  Hindi ={mar[6]}\")\n",
    " elif(wd == 3) :\n",
    "  names = input(\"Enter Name Of Student\")\n",
    "  m = input(\"Enter Marks Of (Math,Science,Sanskrit,SST,English,Hindi) Seprated By Space\")\n",
    "  marks =[]\n",
    "  m = m.split(\" \")\n",
    "  marks.append(names)\n",
    "  for ma in m :\n",
    "   marks.append(int(ma))\n",
    "  Mark.append(marks)\n",
    " elif(wd == 4) :\n",
    "  Mark.clear()\n"
   ]
  },
  {
   "cell_type": "code",
   "execution_count": null,
   "metadata": {},
   "outputs": [],
   "source": []
  }
 ],
 "metadata": {
  "kernelspec": {
   "display_name": "Python 3",
   "language": "python",
   "name": "python3"
  },
  "language_info": {
   "codemirror_mode": {
    "name": "ipython",
    "version": 3
   },
   "file_extension": ".py",
   "mimetype": "text/x-python",
   "name": "python",
   "nbconvert_exporter": "python",
   "pygments_lexer": "ipython3",
   "version": "3.11.4"
  },
  "orig_nbformat": 4
 },
 "nbformat": 4,
 "nbformat_minor": 2
}
