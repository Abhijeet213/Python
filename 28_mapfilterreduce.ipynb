{
 "cells": [
  {
   "cell_type": "code",
   "execution_count": 6,
   "metadata": {},
   "outputs": [
    {
     "name": "stdout",
     "output_type": "stream",
     "text": [
      "[100, 400, 900]\n"
     ]
    }
   ],
   "source": [
    "# def sq(x):\n",
    "#     return x*x\n",
    "num = [10,20,30]\n",
    "# l = [100,400,900]\n",
    "l=list(map(lambda x : x*x,num))\n",
    "print(l)\n",
    "# for x in num:\n",
    "#     l.append(x*x)\n",
    "# print(l)"
   ]
  },
  {
   "cell_type": "code",
   "execution_count": 10,
   "metadata": {},
   "outputs": [
    {
     "name": "stdout",
     "output_type": "stream",
     "text": [
      "[140, 180, 200]\n"
     ]
    }
   ],
   "source": [
    "num = [10,20,30,40,100,200,140,180]\n",
    "# l=[200,140,180]\n",
    "# l = list(filter(lambda x: x>100,num))\n",
    "# l.sort()\n",
    "# print(l)\n",
    "\n",
    "#  VS \n",
    "\n",
    "# l=[]\n",
    "# for x in num:\n",
    "#     if x>100 : l.append(x)\n",
    "# l.sort()\n",
    "# print(l)\n"
   ]
  },
  {
   "cell_type": "code",
   "execution_count": 22,
   "metadata": {},
   "outputs": [
    {
     "name": "stdout",
     "output_type": "stream",
     "text": [
      "720\n"
     ]
    }
   ],
   "source": [
    "from functools import reduce\n",
    "nu = [ ,30,40,100,200,140,180]\n",
    "# l = 720\n",
    "print(reduce(lambda x, y  : x+y,nu))\n"
   ]
  },
  {
   "cell_type": "code",
   "execution_count": 3,
   "metadata": {},
   "outputs": [
    {
     "data": {
      "text/plain": [
       "[2, 3, 4, 5]"
      ]
     },
     "execution_count": 3,
     "metadata": {},
     "output_type": "execute_result"
    }
   ],
   "source": [
    "def func(x):\n",
    "    return x+1\n",
    "list(map(func,[1,2,3,4]))"
   ]
  },
  {
   "cell_type": "code",
   "execution_count": null,
   "metadata": {},
   "outputs": [],
   "source": []
  }
 ],
 "metadata": {
  "kernelspec": {
   "display_name": "Python 3",
   "language": "python",
   "name": "python3"
  },
  "language_info": {
   "codemirror_mode": {
    "name": "ipython",
    "version": 3
   },
   "file_extension": ".py",
   "mimetype": "text/x-python",
   "name": "python",
   "nbconvert_exporter": "python",
   "pygments_lexer": "ipython3",
   "version": "3.11.4"
  },
  "orig_nbformat": 4
 },
 "nbformat": 4,
 "nbformat_minor": 2
}
