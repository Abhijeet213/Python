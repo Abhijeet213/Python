{
 "cells": [
  {
   "cell_type": "code",
   "execution_count": null,
   "metadata": {},
   "outputs": [],
   "source": [
    "class Employee:\n",
    " def write(self):pass\n",
    " def read(self):pass\n",
    " def Musicplay(self):pass\n",
    "\n",
    "class Programmer(Employee):\n",
    " def code(self): pass\n",
    "\n",
    "abhimanyu = Employee()\n",
    "Abhijeet= Programmer()\n",
    "\n",
    "abhimanyu.code() # Abhimanyu not Contain code()\n",
    "Abhijeet.code()\n",
    "#Abhijeet Contain Both Class Method\n",
    "Abhijeet.write()"
   ]
  }
 ],
 "metadata": {
  "language_info": {
   "name": "python"
  },
  "orig_nbformat": 4
 },
 "nbformat": 4,
 "nbformat_minor": 2
}
