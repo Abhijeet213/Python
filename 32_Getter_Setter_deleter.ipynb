{
 "cells": [
  {
   "cell_type": "code",
   "execution_count": 26,
   "metadata": {},
   "outputs": [
    {
     "name": "stdout",
     "output_type": "stream",
     "text": [
      "Name - ProAbhijeet Email - ProAbhijeet@abhhack.com Mobile No - 7737880222\n",
      "\n",
      "Name - Ansuman Email - Ansuman@abhhack.com Mobile No - 9252357920\n",
      "\n"
     ]
    }
   ],
   "source": [
    "class Employee :\n",
    "\n",
    " def __init__(self,phone,name) -> None:\n",
    "  self.phone=phone\n",
    "  self.name=name\n",
    " \n",
    " def show(self):\n",
    "  print(f\"Name - {self.name} Email - {self.email} Mobile No - {self.phone}\")\n",
    "  return \"\"\n",
    " @property\n",
    " def email(self):\n",
    "  if self.name == None :\n",
    "   return \"No Email\"\n",
    "  else :\n",
    "   return f\"{self.name}@abhhack.com\"\n",
    " @email.getter\n",
    " def email(self):\n",
    "  if self.name == None :\n",
    "   return \"No Email\"\n",
    "  else :\n",
    "   return f\"{self.name}@abhhack.com\" \n",
    " @email.setter\n",
    " def email(self,ema):\n",
    "  self.name=ema.split(\"@\")[0]\n",
    " @email.deleter  \n",
    " def email(self):\n",
    "  self.name=None\n",
    "\n",
    "\n",
    "fragner=Employee(8696901619,\"fragner\") \n",
    "anshuman=Employee(9252357920,\"Ansuman\") \n",
    "fragner.phone = 7737880222\n",
    "fragner.email = \"ProAbhijeet@gmail.com\"\n",
    "# del fragner.email\n",
    "print(fragner.show())\n",
    "print(anshuman.show())\n",
    "\n"
   ]
  }
 ],
 "metadata": {
  "kernelspec": {
   "display_name": "Python 3",
   "language": "python",
   "name": "python3"
  },
  "language_info": {
   "codemirror_mode": {
    "name": "ipython",
    "version": 3
   },
   "file_extension": ".py",
   "mimetype": "text/x-python",
   "name": "python",
   "nbconvert_exporter": "python",
   "pygments_lexer": "ipython3",
   "version": "3.11.4"
  },
  "orig_nbformat": 4
 },
 "nbformat": 4,
 "nbformat_minor": 2
}
